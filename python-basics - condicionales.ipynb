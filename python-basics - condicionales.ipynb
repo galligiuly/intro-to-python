{
 "cells": [
  {
   "cell_type": "markdown",
   "metadata": {},
   "source": [
    "## Condicionales"
   ]
  },
  {
   "cell_type": "code",
   "execution_count": 1,
   "metadata": {},
   "outputs": [],
   "source": [
    "#para hacer distintas cosas dependiendo de un valor se usan los condicionales\n",
    "#tienen distintas ramas según diferentes condiciones\n",
    "#las condiciones siempre son booleans "
   ]
  },
  {
   "cell_type": "code",
   "execution_count": 8,
   "metadata": {},
   "outputs": [],
   "source": [
    "# == condición de igualdad\n",
    "# != codición de diversidad\n",
    "# < menor que\n",
    "# > mayor que \n",
    "# <= menor O igual\n",
    "# >= mayor O igual"
   ]
  },
  {
   "cell_type": "code",
   "execution_count": 4,
   "metadata": {},
   "outputs": [
    {
     "data": {
      "text/plain": [
       "False"
      ]
     },
     "execution_count": 4,
     "metadata": {},
     "output_type": "execute_result"
    }
   ],
   "source": [
    "# crear una condición que compruebe si 5 = 4\n",
    "5==7"
   ]
  },
  {
   "cell_type": "code",
   "execution_count": 10,
   "metadata": {},
   "outputs": [
    {
     "data": {
      "text/plain": [
       "True"
      ]
     },
     "execution_count": 10,
     "metadata": {},
     "output_type": "execute_result"
    }
   ],
   "source": [
    "5==5"
   ]
  },
  {
   "cell_type": "code",
   "execution_count": 11,
   "metadata": {},
   "outputs": [
    {
     "data": {
      "text/plain": [
       "False"
      ]
     },
     "execution_count": 11,
     "metadata": {},
     "output_type": "execute_result"
    }
   ],
   "source": [
    "4<3"
   ]
  },
  {
   "cell_type": "code",
   "execution_count": 12,
   "metadata": {},
   "outputs": [
    {
     "data": {
      "text/plain": [
       "False"
      ]
     },
     "execution_count": 12,
     "metadata": {},
     "output_type": "execute_result"
    }
   ],
   "source": [
    "4<=3"
   ]
  },
  {
   "cell_type": "code",
   "execution_count": 19,
   "metadata": {},
   "outputs": [
    {
     "data": {
      "text/plain": [
       "True"
      ]
     },
     "execution_count": 19,
     "metadata": {},
     "output_type": "execute_result"
    }
   ],
   "source": [
    "4>=3"
   ]
  },
  {
   "cell_type": "markdown",
   "metadata": {},
   "source": [
    "## IF statement"
   ]
  },
  {
   "cell_type": "code",
   "execution_count": 14,
   "metadata": {},
   "outputs": [],
   "source": [
    "# IF <condición> :\n",
    "#     código"
   ]
  },
  {
   "cell_type": "code",
   "execution_count": 15,
   "metadata": {},
   "outputs": [],
   "source": [
    "#crear un programa que le pregunte al usuario su nombre y, si el nombre es 'Giulia' o 'Giuly' diga \"Hola\""
   ]
  },
  {
   "cell_type": "code",
   "execution_count": 3,
   "metadata": {},
   "outputs": [
    {
     "name": "stdout",
     "output_type": "stream",
     "text": [
      "Cual es tu nobre?Giulia\n",
      "Hola\n"
     ]
    }
   ],
   "source": [
    "nombre = input(\"Cual es tu nobre?\")\n",
    "\n",
    "if nombre == 'Giulia' or nombre == 'Giuly':\n",
    "    print('Hola')"
   ]
  },
  {
   "cell_type": "code",
   "execution_count": 17,
   "metadata": {},
   "outputs": [],
   "source": [
    "a = 3"
   ]
  },
  {
   "cell_type": "markdown",
   "metadata": {},
   "source": [
    "## ELSE statement"
   ]
  },
  {
   "cell_type": "code",
   "execution_count": 25,
   "metadata": {},
   "outputs": [],
   "source": [
    "# IF <condición> :\n",
    "#     código - True\n",
    "# ELSE \n",
    "#    código - False (todos los demás casos)"
   ]
  },
  {
   "cell_type": "code",
   "execution_count": 26,
   "metadata": {},
   "outputs": [],
   "source": [
    "# crea un programa que te pida el nombre al usuario, si el nombre es Gina o Nemo, escariba \"Tu si que molas\" y \n",
    "# que escriba \"Bye\" en el resto de casos"
   ]
  },
  {
   "cell_type": "code",
   "execution_count": 1,
   "metadata": {},
   "outputs": [
    {
     "name": "stdout",
     "output_type": "stream",
     "text": [
      "Cual es tu nombre?Gina\n",
      "Tu si que molas\n"
     ]
    }
   ],
   "source": [
    "nombre = input('Cual es tu nombre?')\n",
    "\n",
    "if nombre == 'Gina' or nombre == 'Nemo':\n",
    "    print('Tu si que molas')\n",
    "else:\n",
    "    print('Bye')"
   ]
  },
  {
   "cell_type": "code",
   "execution_count": 30,
   "metadata": {},
   "outputs": [],
   "source": [
    "# crea un programa que te pregunte tu color de ojos y tu color de pelo, en caso de que el color de ojos sea azul y el\n",
    "# pelo sea rubio escriba 'Hola!' y sino 'Bye'"
   ]
  },
  {
   "cell_type": "code",
   "execution_count": 2,
   "metadata": {},
   "outputs": [
    {
     "name": "stdout",
     "output_type": "stream",
     "text": [
      "Cual es tu color de ojos?azul\n",
      "Cual es tu color de pelo?rubio\n",
      "Hola!\n"
     ]
    }
   ],
   "source": [
    "ojos = input ('Cual es tu color de ojos?')\n",
    "pelo = input ('Cual es tu color de pelo?')\n",
    "if ojos == 'azul' and pelo == 'rubio':\n",
    "    print('Hola!')\n",
    "else:\n",
    "    print('Bye')"
   ]
  },
  {
   "cell_type": "code",
   "execution_count": 32,
   "metadata": {},
   "outputs": [],
   "source": [
    "# OR => siempre se aplica a dos argumentos y devuelve true en caso de que uno de los dos sea true\n",
    "# T or T == T\n",
    "# T or F == T\n",
    "# F or T == T\n",
    "# F or F == F"
   ]
  },
  {
   "cell_type": "code",
   "execution_count": 33,
   "metadata": {},
   "outputs": [],
   "source": [
    "# AND => siempre se aplica a dos argumentos y devuelve true en caso de que los dos sea true\n",
    "# T and T == T\n",
    "# T and F == F\n",
    "# F and T == F\n",
    "# F and F == F"
   ]
  },
  {
   "cell_type": "code",
   "execution_count": null,
   "metadata": {},
   "outputs": [],
   "source": []
  }
 ],
 "metadata": {
  "kernelspec": {
   "display_name": "Python 3",
   "language": "python",
   "name": "python3"
  },
  "language_info": {
   "codemirror_mode": {
    "name": "ipython",
    "version": 3
   },
   "file_extension": ".py",
   "mimetype": "text/x-python",
   "name": "python",
   "nbconvert_exporter": "python",
   "pygments_lexer": "ipython3",
   "version": "3.6.5"
  }
 },
 "nbformat": 4,
 "nbformat_minor": 2
}
